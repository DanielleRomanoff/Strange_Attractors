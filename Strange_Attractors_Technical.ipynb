{
 "cells": [
  {
   "cell_type": "code",
   "execution_count": 3,
   "metadata": {},
   "outputs": [
    {
     "ename": "ModuleNotFoundError",
     "evalue": "No module named 'datashader'",
     "output_type": "error",
     "traceback": [
      "\u001b[0;31m---------------------------------------------------------------------------\u001b[0m",
      "\u001b[0;31mModuleNotFoundError\u001b[0m                       Traceback (most recent call last)",
      "\u001b[0;32m<ipython-input-3-7aa1c69e5e39>\u001b[0m in \u001b[0;36m<module>\u001b[0;34m\u001b[0m\n\u001b[1;32m     14\u001b[0m \u001b[0;32mimport\u001b[0m \u001b[0mnumpy\u001b[0m \u001b[0;32mas\u001b[0m \u001b[0mnp\u001b[0m\u001b[0;34m\u001b[0m\u001b[0;34m\u001b[0m\u001b[0m\n\u001b[1;32m     15\u001b[0m \u001b[0;32mimport\u001b[0m \u001b[0mpandas\u001b[0m \u001b[0;32mas\u001b[0m \u001b[0mpd\u001b[0m\u001b[0;34m\u001b[0m\u001b[0;34m\u001b[0m\u001b[0m\n\u001b[0;32m---> 16\u001b[0;31m \u001b[0;32mimport\u001b[0m \u001b[0mdatashader\u001b[0m \u001b[0;32mas\u001b[0m \u001b[0mds\u001b[0m\u001b[0;34m\u001b[0m\u001b[0;34m\u001b[0m\u001b[0m\n\u001b[0m\u001b[1;32m     17\u001b[0m \u001b[0;32mfrom\u001b[0m \u001b[0mdatashader\u001b[0m \u001b[0;32mimport\u001b[0m \u001b[0mtransfer_functions\u001b[0m \u001b[0;32mas\u001b[0m \u001b[0mtf\u001b[0m\u001b[0;34m\u001b[0m\u001b[0;34m\u001b[0m\u001b[0m\n\u001b[1;32m     18\u001b[0m \u001b[0;32mfrom\u001b[0m \u001b[0mdatashader\u001b[0m\u001b[0;34m.\u001b[0m\u001b[0mcolors\u001b[0m \u001b[0;32mimport\u001b[0m \u001b[0minferno\u001b[0m\u001b[0;34m,\u001b[0m \u001b[0mviridis\u001b[0m\u001b[0;34m\u001b[0m\u001b[0;34m\u001b[0m\u001b[0m\n",
      "\u001b[0;31mModuleNotFoundError\u001b[0m: No module named 'datashader'"
     ]
    }
   ],
   "source": [
    "import matplotlib as mpl\n",
    "import mpl_toolkits.axisartist as AA\n",
    "from matplotlib import colors\n",
    "import matplotlib.pyplot as plt\n",
    "from mpl_toolkits.mplot3d.axes3d import Axes3D\n",
    "import time\n",
    "\n",
    "# Python code for Julia Fractal \n",
    "from PIL import Image \n",
    "\n",
    "import random\n",
    "import array\n",
    "import math\n",
    "import numpy as np\n",
    "import pandas as pd\n",
    "import datashader as ds\n",
    "from datashader import transfer_functions as tf\n",
    "from datashader.colors import inferno, viridis\n",
    "from numba import jit\n",
    "from math import sin, cos, sqrt, fabs"
   ]
  },
  {
   "cell_type": "markdown",
   "metadata": {},
   "source": [
    "# <center>Definition</center>\n",
    "<center>xn+1 = sin(a yn) + c cos(a xn)</center>\n",
    "<center>yn+1 = sin(b xn) + d cos(b yn)</center>\n",
    "<center>where a, b, c, d are variables that define each attractor.</center>\n",
    "\n",
    "> If I substitute the follow numbers in for the valiables, this is what I get.\n",
    "> firgure 1 -  a = -1.4, b = 1.6, c = 1.0, d = 0.7\n",
    "> firgure 2 -  a = 1.6, b = -0.6, c = -1.2, d = 1.6 \n",
    "> figure 3 -  a = 1.7, b = 1.7, c = 0.6, d = 1.2 \n",
    "> figure 5 - a = 1.5, b = -1.8, c = 1.6, d = 0.9\n",
    "> figure 6 - a = -1.7, b = 1.3, c = -0.1, d = -1.2 \n",
    "> figure 7 - a = -1.7, b = 1.8, c = -1.9, d = -0.4 \n",
    "> figure 8 - a = -1.8, b = -2.0, c = -0.5, d = -0.9 \n"
   ]
  },
  {
   "cell_type": "markdown",
   "metadata": {},
   "source": [
    "Question: How are the color effects here achieved? \n",
    "Answer: The main thing happening here is that I don't draw the attractor to the final image. Rather I create a large grid of 32 bit (int or float) and instead of drawing into that in color I evaluate points on the attractor and just increment each cell of the grid if the attractor passes through it. So it's essentially a 2D histogram for occupancy. One wants to evaluate the attractor much more/longer than normal in order to create a reasonable dynamic range and ultimately smooth color gradients. I then save this 2D grid, the process of applying smooth color gradients comes as a secondary process ... better than trying to encode the right color during the generation process. One can even just save the grid as a 16 or 32 bit raw, open in PhotoShop and apply custom gradient maps there. \n",
    "Of course this is \"just\" a density mapping of the histogram and doesn't immediately allow for coloring based upon other attributes of the attractor path, such as curvature. But such attributes can be encoded into the histogram encoding, for example the amount added to a cell being a function of curvature."
   ]
  },
  {
   "cell_type": "code",
   "execution_count": 4,
   "metadata": {},
   "outputs": [
    {
     "ename": "SyntaxError",
     "evalue": "unexpected character after line continuation character (<ipython-input-4-1abc282781ad>, line 1)",
     "output_type": "error",
     "traceback": [
      "\u001b[0;36m  File \u001b[0;32m\"<ipython-input-4-1abc282781ad>\"\u001b[0;36m, line \u001b[0;32m1\u001b[0m\n\u001b[0;31m    x\\u(n+1) = math.sin(a y\\un) + c math.cos(a x\\un)\u001b[0m\n\u001b[0m                                                    ^\u001b[0m\n\u001b[0;31mSyntaxError\u001b[0m\u001b[0;31m:\u001b[0m unexpected character after line continuation character\n"
     ]
    }
   ],
   "source": [
    "x\\u(n+1) = math.sin(a y\\un) + c math.cos(a x\\un)\n",
    "y\\u(n+1) = math.sin(b x\\un) + d math.cos(b y\\un)"
   ]
  },
  {
   "cell_type": "code",
   "execution_count": 17,
   "metadata": {},
   "outputs": [
    {
     "ename": "IndentationError",
     "evalue": "unindent does not match any outer indentation level (<tokenize>, line 5)",
     "output_type": "error",
     "traceback": [
      "\u001b[0;36m  File \u001b[0;32m\"<tokenize>\"\u001b[0;36m, line \u001b[0;32m5\u001b[0m\n\u001b[0;31m    -0.5   -0.5    0.5   sqrt(2) / 2\u001b[0m\n\u001b[0m    ^\u001b[0m\n\u001b[0;31mIndentationError\u001b[0m\u001b[0;31m:\u001b[0m unindent does not match any outer indentation level\n"
     ]
    }
   ],
   "source": [
    "Tachyon\n",
    "The images here were rendered using the Tachyon rendering package written by John Stone. The same results could be achieved with almost any raytracer, in particular PovRay, Radiance, etc. As mentioned before it is important to be able to set the ray trace depth, it is also important to be able to precisely set the position and radius of the balls to avoid any narrow slits or intersections. The table below gives the centre and radius of the 4 balls in the configuration used here.\n",
    "\n",
    "      x      y      z         r\n",
    "    -0.5   -0.5    0.5   sqrt(2) / 2 \n",
    "     0.5    0.5    0.5   sqrt(2) / 2 \n",
    "    -0.5    0.5   -0.5   sqrt(2) / 2 \n",
    "     0.5   -0.5   -0.5   sqrt(2) / 2\n"
   ]
  },
  {
   "cell_type": "code",
   "execution_count": null,
   "metadata": {},
   "outputs": [],
   "source": [
    "\n",
    "\n"
   ]
  },
  {
   "cell_type": "code",
   "execution_count": 18,
   "metadata": {},
   "outputs": [],
   "source": [
    "def Clifford(x, y, a, b, c, d, *o):\n",
    "    return math.sin(a * y) + c * math.cos(a * x), \\\n",
    "           math.sin(b * x) + d * math.cos(b * y)\n",
    "\n",
    "n=10000000\n",
    "\n",
    "\n",
    "def trajectory(fn, x0, y0, a, b=0, c=0, d=0, e=0, f=0, n=n):\n",
    "    x, y = np.zeros(n), np.zeros(n)\n",
    "    x[0], y[0] = x0, y0\n",
    "    for i in np.arange(n-1):\n",
    "        x[i+1], y[i+1] = fn(x[i], y[i], a, b, c, d, e, f)\n",
    "    return pd.DataFrame(dict(x=x,y=y))\n",
    "\n",
    "%%time\n",
    "df = trajectory(Clifford, 0, 0, -1.3, -1.3, -1.8, -1.9)"
   ]
  },
  {
   "cell_type": "code",
   "execution_count": 19,
   "metadata": {},
   "outputs": [],
   "source": [
    "\n"
   ]
  },
  {
   "cell_type": "code",
   "execution_count": 20,
   "metadata": {},
   "outputs": [
    {
     "name": "stdout",
     "output_type": "stream",
     "text": [
      "CPU times: user 25.5 s, sys: 400 ms, total: 25.9 s\n",
      "Wall time: 26.4 s\n"
     ]
    }
   ],
   "source": []
  },
  {
   "cell_type": "code",
   "execution_count": 21,
   "metadata": {},
   "outputs": [
    {
     "data": {
      "text/html": [
       "<div>\n",
       "<style scoped>\n",
       "    .dataframe tbody tr th:only-of-type {\n",
       "        vertical-align: middle;\n",
       "    }\n",
       "\n",
       "    .dataframe tbody tr th {\n",
       "        vertical-align: top;\n",
       "    }\n",
       "\n",
       "    .dataframe thead th {\n",
       "        text-align: right;\n",
       "    }\n",
       "</style>\n",
       "<table border=\"1\" class=\"dataframe\">\n",
       "  <thead>\n",
       "    <tr style=\"text-align: right;\">\n",
       "      <th></th>\n",
       "      <th>x</th>\n",
       "      <th>y</th>\n",
       "    </tr>\n",
       "  </thead>\n",
       "  <tbody>\n",
       "    <tr>\n",
       "      <th>9999995</th>\n",
       "      <td>0.798129</td>\n",
       "      <td>0.098356</td>\n",
       "    </tr>\n",
       "    <tr>\n",
       "      <th>9999996</th>\n",
       "      <td>-1.042485</td>\n",
       "      <td>-2.745660</td>\n",
       "    </tr>\n",
       "    <tr>\n",
       "      <th>9999997</th>\n",
       "      <td>-0.799859</td>\n",
       "      <td>2.705656</td>\n",
       "    </tr>\n",
       "    <tr>\n",
       "      <th>9999998</th>\n",
       "      <td>-0.544501</td>\n",
       "      <td>2.629746</td>\n",
       "    </tr>\n",
       "    <tr>\n",
       "      <th>9999999</th>\n",
       "      <td>-1.094023</td>\n",
       "      <td>2.477735</td>\n",
       "    </tr>\n",
       "  </tbody>\n",
       "</table>\n",
       "</div>"
      ],
      "text/plain": [
       "                x         y\n",
       "9999995  0.798129  0.098356\n",
       "9999996 -1.042485 -2.745660\n",
       "9999997 -0.799859  2.705656\n",
       "9999998 -0.544501  2.629746\n",
       "9999999 -1.094023  2.477735"
      ]
     },
     "execution_count": 21,
     "metadata": {},
     "output_type": "execute_result"
    }
   ],
   "source": [
    "df.tail()"
   ]
  },
  {
   "cell_type": "markdown",
   "metadata": {},
   "source": [
    "We can now aggregate these 10,000,000 continuous coordinates into a discrete 2D rectangular grid with Datashader, counting each time a point fell into that grid cell: "
   ]
  },
  {
   "cell_type": "code",
   "execution_count": 22,
   "metadata": {},
   "outputs": [
    {
     "ename": "SyntaxError",
     "evalue": "invalid syntax (<unknown>, line 5)",
     "output_type": "error",
     "traceback": [
      "Traceback \u001b[0;36m(most recent call last)\u001b[0m:\n",
      "  File \u001b[1;32m\"/anaconda3/lib/python3.6/site-packages/IPython/core/interactiveshell.py\"\u001b[0m, line \u001b[1;32m3291\u001b[0m, in \u001b[1;35mrun_code\u001b[0m\n    exec(code_obj, self.user_global_ns, self.user_ns)\n",
      "  File \u001b[1;32m\"<ipython-input-22-dced3a04f11d>\"\u001b[0m, line \u001b[1;32m1\u001b[0m, in \u001b[1;35m<module>\u001b[0m\n    get_ipython().run_cell_magic('time', '', '\\ncvs = ds.Canvas(plot_width = 700, plot_height = 700)\\nagg = cvs.points(df, \\'x\\', \\'y\\')\\nprint(agg.values[190:195,190:195],\"\\\\n\")\\n[[ 44  33  33  29  32]\\n [ 34  34  44  33  39]\\n [127  39  33  38  33]\\n [157 199 114  57  57]\\n [ 84  97 136 123 108]]\\n')\n",
      "  File \u001b[1;32m\"/anaconda3/lib/python3.6/site-packages/IPython/core/interactiveshell.py\"\u001b[0m, line \u001b[1;32m2347\u001b[0m, in \u001b[1;35mrun_cell_magic\u001b[0m\n    result = fn(magic_arg_s, cell)\n",
      "  File \u001b[1;32m\"</anaconda3/lib/python3.6/site-packages/decorator.py:decorator-gen-61>\"\u001b[0m, line \u001b[1;32m2\u001b[0m, in \u001b[1;35mtime\u001b[0m\n",
      "  File \u001b[1;32m\"/anaconda3/lib/python3.6/site-packages/IPython/core/magic.py\"\u001b[0m, line \u001b[1;32m187\u001b[0m, in \u001b[1;35m<lambda>\u001b[0m\n    call = lambda f, *a, **k: f(*a, **k)\n",
      "  File \u001b[1;32m\"/anaconda3/lib/python3.6/site-packages/IPython/core/magics/execution.py\"\u001b[0m, line \u001b[1;32m1256\u001b[0m, in \u001b[1;35mtime\u001b[0m\n    expr_ast = self.shell.compile.ast_parse(expr)\n",
      "\u001b[0;36m  File \u001b[0;32m\"/anaconda3/lib/python3.6/site-packages/IPython/core/compilerop.py\"\u001b[0;36m, line \u001b[0;32m100\u001b[0;36m, in \u001b[0;35mast_parse\u001b[0;36m\u001b[0m\n\u001b[0;31m    return compile(source, filename, symbol, self.flags | PyCF_ONLY_AST, 1)\u001b[0m\n",
      "\u001b[0;36m  File \u001b[0;32m\"<unknown>\"\u001b[0;36m, line \u001b[0;32m5\u001b[0m\n\u001b[0;31m    [[ 44  33  33  29  32]\u001b[0m\n\u001b[0m            ^\u001b[0m\n\u001b[0;31mSyntaxError\u001b[0m\u001b[0;31m:\u001b[0m invalid syntax\n"
     ]
    }
   ],
   "source": [
    "%%time\n",
    "\n",
    "cvs = ds.Canvas(plot_width = 700, plot_height = 700)\n",
    "agg = cvs.points(df, 'x', 'y')\n",
    "print(agg.values[190:195,190:195],\"\\n\")\n",
    "[[ 44  33  33  29  32]\n",
    " [ 34  34  44  33  39]\n",
    " [127  39  33  38  33]\n",
    " [157 199 114  57  57]\n",
    " [ 84  97 136 123 108]]"
   ]
  },
  {
   "cell_type": "markdown",
   "metadata": {},
   "source": [
    "A small portion of that grid is shown above, but it's difficult to see the grid's structure from the numerical values. To see the entire array at once, we can turn each grid cell into a pixel, using a greyscale value from white to black: As you can see, the most-visited areas of the plane have an interesting structure for this set of parameters. To explore further, let's wrap up the above aggregation and shading commands into a function so we can apply them more easily:"
   ]
  },
  {
   "cell_type": "code",
   "execution_count": 23,
   "metadata": {},
   "outputs": [
    {
     "ename": "NameError",
     "evalue": "name 'ds' is not defined",
     "output_type": "error",
     "traceback": [
      "\u001b[0;31m---------------------------------------------------------------------------\u001b[0m",
      "\u001b[0;31mNameError\u001b[0m                                 Traceback (most recent call last)",
      "\u001b[0;32m<ipython-input-23-278e6e26ed84>\u001b[0m in \u001b[0;36m<module>\u001b[0;34m\u001b[0m\n\u001b[0;32m----> 1\u001b[0;31m \u001b[0mds\u001b[0m\u001b[0;34m.\u001b[0m\u001b[0mtransfer_functions\u001b[0m\u001b[0;34m.\u001b[0m\u001b[0mImage\u001b[0m\u001b[0;34m.\u001b[0m\u001b[0mborder\u001b[0m\u001b[0;34m=\u001b[0m\u001b[0;36m0\u001b[0m\u001b[0;34m\u001b[0m\u001b[0;34m\u001b[0m\u001b[0m\n\u001b[0m\u001b[1;32m      2\u001b[0m \u001b[0;34m\u001b[0m\u001b[0m\n\u001b[1;32m      3\u001b[0m \u001b[0mtf\u001b[0m\u001b[0;34m.\u001b[0m\u001b[0mshade\u001b[0m\u001b[0;34m(\u001b[0m\u001b[0magg\u001b[0m\u001b[0;34m,\u001b[0m \u001b[0mcmap\u001b[0m \u001b[0;34m=\u001b[0m \u001b[0;34m[\u001b[0m\u001b[0;34m\"white\"\u001b[0m\u001b[0;34m,\u001b[0m \u001b[0;34m\"black\"\u001b[0m\u001b[0;34m]\u001b[0m\u001b[0;34m)\u001b[0m\u001b[0;34m\u001b[0m\u001b[0;34m\u001b[0m\u001b[0m\n",
      "\u001b[0;31mNameError\u001b[0m: name 'ds' is not defined"
     ]
    }
   ],
   "source": []
  },
  {
   "cell_type": "code",
   "execution_count": 24,
   "metadata": {},
   "outputs": [
    {
     "ename": "NameError",
     "evalue": "name 'viridis' is not defined",
     "output_type": "error",
     "traceback": [
      "\u001b[0;31m---------------------------------------------------------------------------\u001b[0m",
      "\u001b[0;31mNameError\u001b[0m                                 Traceback (most recent call last)",
      "\u001b[0;32m<ipython-input-24-dd3e0c4dec18>\u001b[0m in \u001b[0;36m<module>\u001b[0;34m\u001b[0m\n\u001b[0;32m----> 1\u001b[0;31m \u001b[0;32mdef\u001b[0m \u001b[0mdsplot\u001b[0m\u001b[0;34m(\u001b[0m\u001b[0mfn\u001b[0m\u001b[0;34m,\u001b[0m \u001b[0mvals\u001b[0m\u001b[0;34m,\u001b[0m \u001b[0mn\u001b[0m\u001b[0;34m=\u001b[0m\u001b[0mn\u001b[0m\u001b[0;34m,\u001b[0m \u001b[0mcmap\u001b[0m\u001b[0;34m=\u001b[0m\u001b[0mviridis\u001b[0m\u001b[0;34m,\u001b[0m \u001b[0mlabel\u001b[0m\u001b[0;34m=\u001b[0m\u001b[0;32mTrue\u001b[0m\u001b[0;34m)\u001b[0m\u001b[0;34m:\u001b[0m\u001b[0;34m\u001b[0m\u001b[0;34m\u001b[0m\u001b[0m\n\u001b[0m\u001b[1;32m      2\u001b[0m     \u001b[0;34m\"\"\"Return a Datashader image by collecting `n` trajectory points for the given attractor `fn`\"\"\"\u001b[0m\u001b[0;34m\u001b[0m\u001b[0;34m\u001b[0m\u001b[0m\n\u001b[1;32m      3\u001b[0m     \u001b[0mlab\u001b[0m \u001b[0;34m=\u001b[0m \u001b[0;34m(\u001b[0m\u001b[0;34m\"{}, \"\u001b[0m\u001b[0;34m*\u001b[0m\u001b[0;34m(\u001b[0m\u001b[0mlen\u001b[0m\u001b[0;34m(\u001b[0m\u001b[0mvals\u001b[0m\u001b[0;34m)\u001b[0m\u001b[0;34m-\u001b[0m\u001b[0;36m1\u001b[0m\u001b[0;34m)\u001b[0m\u001b[0;34m+\u001b[0m\u001b[0;34m\" {}\"\u001b[0m\u001b[0;34m)\u001b[0m\u001b[0;34m.\u001b[0m\u001b[0mformat\u001b[0m\u001b[0;34m(\u001b[0m\u001b[0;34m*\u001b[0m\u001b[0mvals\u001b[0m\u001b[0;34m)\u001b[0m \u001b[0;32mif\u001b[0m \u001b[0mlabel\u001b[0m \u001b[0;32melse\u001b[0m \u001b[0;32mNone\u001b[0m\u001b[0;34m\u001b[0m\u001b[0;34m\u001b[0m\u001b[0m\n\u001b[1;32m      4\u001b[0m     \u001b[0mdf\u001b[0m  \u001b[0;34m=\u001b[0m \u001b[0mtrajectory\u001b[0m\u001b[0;34m(\u001b[0m\u001b[0mfn\u001b[0m\u001b[0;34m,\u001b[0m \u001b[0;34m*\u001b[0m\u001b[0mvals\u001b[0m\u001b[0;34m,\u001b[0m \u001b[0mn\u001b[0m\u001b[0;34m=\u001b[0m\u001b[0mn\u001b[0m\u001b[0;34m)\u001b[0m\u001b[0;34m\u001b[0m\u001b[0;34m\u001b[0m\u001b[0m\n\u001b[1;32m      5\u001b[0m     \u001b[0mcvs\u001b[0m \u001b[0;34m=\u001b[0m \u001b[0mds\u001b[0m\u001b[0;34m.\u001b[0m\u001b[0mCanvas\u001b[0m\u001b[0;34m(\u001b[0m\u001b[0mplot_width\u001b[0m \u001b[0;34m=\u001b[0m \u001b[0;36m300\u001b[0m\u001b[0;34m,\u001b[0m \u001b[0mplot_height\u001b[0m \u001b[0;34m=\u001b[0m \u001b[0;36m300\u001b[0m\u001b[0;34m)\u001b[0m\u001b[0;34m\u001b[0m\u001b[0;34m\u001b[0m\u001b[0m\n",
      "\u001b[0;31mNameError\u001b[0m: name 'viridis' is not defined"
     ]
    }
   ],
   "source": [
    "%%time\n",
    "\n",
    "cvs = ds.Canvas(plot_width = 700, plot_height = 700)\n",
    "agg = cvs.points(df, 'x', 'y')\n",
    "print(agg.values[190:195,190:195],\"\\n\")\n",
    "[[ 44  33  33  29  32]\n",
    " [ 34  34  44  33  39]\n",
    " [127  39  33  38  33]\n",
    " [157 199 114  57  57]\n",
    " [ 84  97 136 123 108]]\n",
    "\n",
    "ds.transfer_functions.Image.border=0\n",
    "\n",
    "tf.shade(agg, cmap = [\"white\", \"black\"])\n",
    "\n",
    "def dsplot(fn, vals, n=n, cmap=viridis, label=True):\n",
    "    \"\"\"Return a Datashader image by collecting `n` trajectory points for the given attractor `fn`\"\"\"\n",
    "    lab = (\"{}, \"*(len(vals)-1)+\" {}\").format(*vals) if label else None\n",
    "    df  = trajectory(fn, *vals, n=n)\n",
    "    cvs = ds.Canvas(plot_width = 300, plot_height = 300)\n",
    "    agg = cvs.points(df, 'x', 'y')\n",
    "    img = tf.shade(agg, cmap=cmap, name=lab)\n",
    "    return img\n"
   ]
  },
  {
   "cell_type": "code",
   "execution_count": null,
   "metadata": {},
   "outputs": [],
   "source": []
  },
  {
   "cell_type": "code",
   "execution_count": null,
   "metadata": {},
   "outputs": [],
   "source": [
    "# And let's load some colormaps that we can use for subsequent plots:\n",
    "\n",
    "from colorcet import palette\n",
    "palette[\"viridis\"]=viridis\n",
    "palette[\"inferno\"]=inferno\n",
    "\n",
    "# We can now use these colormaps with a pre-selected set of Clifford attractor parameter values (stored in a separate YAML-format text file) to show a wide variety of trajectories that these equations can form:\n",
    "\n",
    "import yaml\n",
    "vals = yaml.load(open(\"attractors.yml\",\"r\"))\n",
    "\n",
    "def args(name):\n",
    "    \"\"\"Return a list of available argument lists for the given type of attractor\"\"\"\n",
    "    return [v[1:] for v in vals if v[0]==name]\n",
    "\n",
    "def plot(fn, vals=None, **kw):\n",
    "    \"\"\"Plot the given attractor `fn` once per provided set of arguments.\"\"\"\n",
    "    vargs=args(fn.__name__) if vals is None else vals\n",
    "    return tf.Images(*[dsplot(fn, v[1:], cmap=palette[v[0]][::-1], **kw) for v in vargs]).cols(4)\n",
    "plot(Clifford)"
   ]
  },
  {
   "cell_type": "markdown",
   "metadata": {},
   "source": [
    "Here the values shown are the arguments for the first call to Clifford(x, y, a, b, c, d), with each subsequent call using the x,y location of the previous call.\n",
    "\n",
    "Randomly sampling the parameter space typically yields much less dramatic patterns, such as all trajectory locations being on a small number of points:"
   ]
  },
  {
   "cell_type": "code",
   "execution_count": null,
   "metadata": {},
   "outputs": [],
   "source": [
    "import numpy.random\n",
    "numpy.random.seed(21)\n",
    "num = 4\n",
    "\n",
    "rvals=np.c_[np.zeros((num,2)), numpy.random.random((num,4))*4-2]\n",
    "plot(Clifford, vals=[[\"kbc\"]+list(rvals[i]) for i in range(len(rvals))], label=True)"
   ]
  },
  {
   "cell_type": "markdown",
   "metadata": {},
   "source": [
    "If you wish, Datashader could easily be used to filter out such uninteresting examples, by applying a criterion to the aggregate array before shading and showing only those that remain (e.g. rejecting those where 80% of the pixel bins are empty).\n",
    "\n",
    "De Jong attractors\n",
    "A variety of other sets of attractor equations have been proposed, such as these from Peter de Jong:"
   ]
  },
  {
   "cell_type": "code",
   "execution_count": null,
   "metadata": {},
   "outputs": [],
   "source": [
    "@jit\n",
    "def De_Jong(x, y, a, b, c, d, *o):\n",
    "    return sin(a * y) - cos(b * x), \\\n",
    "           sin(c * x) - cos(d * y)\n",
    "\n",
    "plot(De_Jong)"
   ]
  },
  {
   "cell_type": "markdown",
   "metadata": {},
   "source": [
    "Svensson attractors\n",
    "From Johnny Svensson:"
   ]
  },
  {
   "cell_type": "code",
   "execution_count": null,
   "metadata": {},
   "outputs": [],
   "source": [
    "@jit\n",
    "def Svensson(x, y, a, b, c, d, *o):\n",
    "    return d * sin(a * x) - sin(b * y), \\\n",
    "           c * cos(a * x) + cos(b * y)\n",
    "\n",
    "plot(Svensson)"
   ]
  },
  {
   "cell_type": "markdown",
   "metadata": {},
   "source": [
    "Bedhead Attractor\n",
    "From Ivan Emrich and Jason Rampe:"
   ]
  },
  {
   "cell_type": "code",
   "execution_count": null,
   "metadata": {},
   "outputs": [],
   "source": [
    "@jit\n",
    "def Bedhead(x, y, a, b, *o):\n",
    "    return sin(x*y/b)*y + cos(a*x-y), \\\n",
    "           x + sin(y)/b\n",
    "\n",
    "plot(Bedhead)"
   ]
  },
  {
   "cell_type": "markdown",
   "metadata": {},
   "source": [
    "Fractal Dream Attractor\n",
    "From Clifford A. Pickover's book “Chaos In Wonderland”, with parameters from Jason Rampe:"
   ]
  },
  {
   "cell_type": "code",
   "execution_count": null,
   "metadata": {},
   "outputs": [],
   "source": [
    "@jit\n",
    "def Fractal_Dream(x, y, a, b, c, d, *o):\n",
    "    return sin(y*b)+c*sin(x*b), \\\n",
    "           sin(x*a)+d*sin(y*a)\n",
    "\n",
    "plot(Fractal_Dream)"
   ]
  },
  {
   "cell_type": "code",
   "execution_count": null,
   "metadata": {},
   "outputs": [],
   "source": [
    "Hopalong attractors\n",
    "From Barry Martin, here with code for two variants from François Pacull:"
   ]
  },
  {
   "cell_type": "code",
   "execution_count": null,
   "metadata": {},
   "outputs": [],
   "source": [
    "@jit\n",
    "def Hopalong1(x, y, a, b, c, *o):\n",
    "    return y - sqrt(fabs(b * x - c)) * np.sign(x), \\\n",
    "           a - x\n",
    "@jit\n",
    "def Hopalong2(x, y, a, b, c, *o):\n",
    "    return y - 1.0 - sqrt(fabs(b * x - 1.0 - c)) * np.sign(x - 1.0), \\\n",
    "           a - x - 1.0\n",
    "\n",
    "plot(Hopalong1)"
   ]
  },
  {
   "cell_type": "markdown",
   "metadata": {},
   "source": [
    "Gumowski-Mira Attractor\n",
    "From I. Gumowski and C. Mira, with code and parameters from Jason Rampe and Lázaro Alonso:"
   ]
  },
  {
   "cell_type": "code",
   "execution_count": null,
   "metadata": {},
   "outputs": [],
   "source": [
    "@jit\n",
    "def G(x, mu):\n",
    "    return mu * x + 2 * (1 - mu) * x**2 / (1.0 + x**2)\n",
    "\n",
    "@jit\n",
    "def Gumowski_Mira(x, y, a, b, mu, *o):\n",
    "    xn = y + a*(1 - b*y**2)*y  +  G(x, mu)\n",
    "    yn = -x + G(xn, mu)\n",
    "    return xn, yn\n",
    "\n",
    "plot(Gumowski_Mira)"
   ]
  },
  {
   "cell_type": "markdown",
   "metadata": {},
   "source": [
    "Symmetric Icon Attractor\n",
    "The Hopalong and Gumowski-Mira equations often result in symmetric patterns, but a different approach is to force the patterns to be symmetric, which is often pleasing. Examples from “Symmetry in Chaos” by Michael Field and Martin Golubitsky, with code and parameters from Jason Rampe:\n"
   ]
  },
  {
   "cell_type": "code",
   "execution_count": null,
   "metadata": {},
   "outputs": [],
   "source": [
    "@jit\n",
    "def Symmetric_Icon(x, y, a, b, g, om, l, d, *o):\n",
    "    zzbar = x*x + y*y\n",
    "    p = a*zzbar + l\n",
    "    zreal, zimag = x, y\n",
    "\n",
    "    for i in range(1, d-1):\n",
    "        za, zb = zreal * x - zimag * y, zimag * x + zreal * y\n",
    "        zreal, zimag = za, zb\n",
    "\n",
    "    zn = x*zreal - y*zimag\n",
    "    p += b*zn\n",
    "\n",
    "    return p*x + g*zreal - om*y, \\\n",
    "           p*y - g*zimag + om*x\n",
    "\n",
    "plot(Symmetric_Icon)"
   ]
  },
  {
   "cell_type": "markdown",
   "metadata": {},
   "source": [
    "Interactive plotting\n",
    "If you are running a live Python process, you can use Datashader with HoloViews and Bokeh to zoom in and see the individual steps in any of these calculations:"
   ]
  },
  {
   "cell_type": "code",
   "execution_count": null,
   "metadata": {},
   "outputs": [],
   "source": [
    "import holoviews as hv\n",
    "from holoviews.operation.datashader import datashade, dynspread\n",
    "hv.extension('bokeh')\n",
    "\n",
    "dynspread(datashade(hv.Points(trajectory(Clifford, *(args(\"Clifford\")[5][1:]))),\n",
    "                    cmap=viridis[::-1]).opts(width=400,height=400))"
   ]
  },
  {
   "cell_type": "code",
   "execution_count": null,
   "metadata": {},
   "outputs": [],
   "source": [
    "Each time you zoom in in a live process, the data will be reaggregated, which should take a small fraction of a second for 10 million points. Eventually, once you zoom in enough you should see individual data points, as we are not connecting the points into a trajectory here.\n",
    "\n",
    "You can also try \"connecting the dots\", which will reveal how the particle jumps discretely from one region of the space to another:\n"
   ]
  },
  {
   "cell_type": "code",
   "execution_count": null,
   "metadata": {},
   "outputs": [],
   "source": [
    "dynspread(datashade(hv.Path([trajectory(Clifford, *(args(\"Clifford\")[5][1:]))]),\n",
    "                    cmap=viridis[::-1]).opts(width=400,height=400))"
   ]
  },
  {
   "cell_type": "markdown",
   "metadata": {},
   "source": [
    "Again, if you zoom in on a live server, the plot will update so that you can see the individual traces involved.\n",
    "\n",
    "On the live server, you can also explore to find your own parameter values that generate interesting patterns:"
   ]
  },
  {
   "cell_type": "code",
   "execution_count": null,
   "metadata": {},
   "outputs": [],
   "source": [
    "def hv_clif(a,b,c,d,x0=0,y0=0,n=n):\n",
    "    return datashade(hv.Points(trajectory(Clifford, x0, y0, a, b, c, d, n)),\n",
    "                     cmap=inferno[::-1], dynamic=False)\n",
    "\n",
    "x0,y0,a,b,c,d = args(\"Clifford\")[6][1:]\n",
    "\n",
    "dm = hv.DynamicMap(hv_clif, kdims=['a', 'b', 'c', 'd'])\n",
    "dm = dm.redim.range(a=(-2.0, 2.0), b=(-2.0,2.0), c=(-2.0,2.0), d=(-2.0,2.0))\n",
    "dm = dm.redim.default(a=a, b=b, c=c, d=d).opts(width=500,height=500)\n",
    "dm"
   ]
  },
  {
   "cell_type": "markdown",
   "metadata": {},
   "source": [
    "Although many of the regions of this four-dimensional parameter space generate uninteresting trajectories such as single points, you can find interesting regions by starting with one of the a,b,c,d tuples of values in previous plots, then click on one slider and use the left and right arrow keys to see how the plot changes as that parameter changes. See also this Panel-based attractor dashboard."
   ]
  },
  {
   "cell_type": "code",
   "execution_count": null,
   "metadata": {},
   "outputs": [],
   "source": []
  },
  {
   "cell_type": "code",
   "execution_count": null,
   "metadata": {},
   "outputs": [],
   "source": []
  },
  {
   "cell_type": "code",
   "execution_count": null,
   "metadata": {},
   "outputs": [],
   "source": []
  }
 ],
 "metadata": {
  "kernelspec": {
   "display_name": "Python 3",
   "language": "python",
   "name": "python3"
  },
  "language_info": {
   "codemirror_mode": {
    "name": "ipython",
    "version": 3
   },
   "file_extension": ".py",
   "mimetype": "text/x-python",
   "name": "python",
   "nbconvert_exporter": "python",
   "pygments_lexer": "ipython3",
   "version": "3.6.8"
  }
 },
 "nbformat": 4,
 "nbformat_minor": 2
}
